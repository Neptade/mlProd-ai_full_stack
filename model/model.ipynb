{
 "cells": [
  {
   "cell_type": "code",
   "execution_count": null,
   "metadata": {},
   "outputs": [],
   "source": []
  },
  {
   "cell_type": "markdown",
   "metadata": {},
   "source": [
    "## Notebook model Random Forest Classifier with ML Flow"
   ]
  },
  {
   "cell_type": "code",
   "execution_count": 1,
   "metadata": {},
   "outputs": [],
   "source": [
    "## Import libraries\n",
    "\n",
    "import sys\n",
    "import warnings\n",
    "import numpy as np\n",
    "import pandas as pd\n",
    "from sklearn.ensemble import RandomForestClassifier\n",
    "from sklearn.metrics import accuracy_score, precision_score, recall_score, f1_score, classification_report\n",
    "from sklearn.model_selection import train_test_split\n",
    "import mlflow\n",
    "import mlflow.sklearn\n",
    "from mlflow.models import infer_signature"
   ]
  },
  {
   "cell_type": "code",
   "execution_count": 2,
   "metadata": {},
   "outputs": [],
   "source": [
    "# Function to evaluate metrics\n",
    "\n",
    "def eval_metrics(actual, pred):\n",
    "    accuracy = accuracy_score(actual, pred)\n",
    "    precision = precision_score(actual, pred, average=\"weighted\")\n",
    "    recall = recall_score(actual, pred, average=\"weighted\")\n",
    "    f1 = f1_score(actual, pred, average=\"weighted\")\n",
    "    return accuracy, precision, recall, f1"
   ]
  },
  {
   "cell_type": "code",
   "execution_count": 3,
   "metadata": {},
   "outputs": [],
   "source": [
    "warnings.filterwarnings(\"ignore\")\n",
    "np.random.seed(42)\n",
    "\n",
    "iris = pd.read_csv(\"iris.csv\")\n",
    "X = iris.drop([\"target\"], axis=1)\n",
    "y = iris[\"target\"]\n",
    "\n",
    "feature_names = iris.columns[:-1]\n",
    "target_names = [\"setosa\", \"versicolor\", \"virginica\"]\n",
    "\n",
    "# Split the data into training and test sets (80% - 20%)\n",
    "train_x, test_x, train_y, test_y = train_test_split(X, y, test_size=0.2, random_state=42)"
   ]
  },
  {
   "cell_type": "code",
   "execution_count": 4,
   "metadata": {},
   "outputs": [
    {
     "name": "stdout",
     "output_type": "stream",
     "text": [
      "Random Forest Classifier (n_estimators=100, max_depth=None):\n",
      "  Accuracy: 1.0\n",
      "  Precision: 1.0\n",
      "  Recall: 1.0\n",
      "  F1 Score: 1.0\n"
     ]
    }
   ],
   "source": [
    "n_estimators = 100\n",
    "max_depth = None\n",
    "\n",
    "# Model Random Forest Classifier\n",
    "rf = RandomForestClassifier(n_estimators=n_estimators, max_depth=max_depth, random_state=42)\n",
    "rf.fit(train_x, train_y)\n",
    "predictions = rf.predict(test_x)\n",
    "signature = infer_signature(train_x, predictions)\n",
    "input_example = train_x[:5]\n",
    "\n",
    "# Metrucs evaluation\n",
    "accuracy, precision, recall, f1 = eval_metrics(test_y, predictions)\n",
    "\n",
    "# Affichage des résultats\n",
    "print(f\"Random Forest Classifier (n_estimators={n_estimators}, max_depth={max_depth}):\")\n",
    "print(f\"  Accuracy: {accuracy}\")\n",
    "print(f\"  Precision: {precision}\")\n",
    "print(f\"  Recall: {recall}\")\n",
    "print(f\"  F1 Score: {f1}\")"
   ]
  },
  {
   "cell_type": "code",
   "execution_count": 5,
   "metadata": {},
   "outputs": [
    {
     "name": "stdout",
     "output_type": "stream",
     "text": [
      "\n",
      "Classification Report:\n",
      "               precision    recall  f1-score   support\n",
      "\n",
      "      setosa       1.00      1.00      1.00        10\n",
      "  versicolor       1.00      1.00      1.00         9\n",
      "   virginica       1.00      1.00      1.00        11\n",
      "\n",
      "    accuracy                           1.00        30\n",
      "   macro avg       1.00      1.00      1.00        30\n",
      "weighted avg       1.00      1.00      1.00        30\n",
      "\n",
      "MLflow run completed!\n"
     ]
    }
   ],
   "source": [
    "# MLflow integration\n",
    "with mlflow.start_run():\n",
    "    # hyperparameters and metrics logging\n",
    "    mlflow.log_param(\"n_estimators\", n_estimators)\n",
    "    mlflow.log_param(\"max_depth\", max_depth)\n",
    "    mlflow.log_metric(\"accuracy\", accuracy)\n",
    "    mlflow.log_metric(\"precision\", precision)\n",
    "    mlflow.log_metric(\"recall\", recall)\n",
    "    mlflow.log_metric(\"f1_score\", f1)\n",
    "\n",
    "    # model saving\n",
    "    mlflow.sklearn.log_model(rf, \"model\", signature=signature, input_example=input_example)       \n",
    "\n",
    "    # classification report\n",
    "    report = classification_report(test_y, predictions, target_names=target_names)\n",
    "    print(\"\\nClassification Report:\\n\", report)\n",
    "    with open(\"classification_report.txt\", \"w\") as f:\n",
    "        f.write(report)\n",
    "    mlflow.log_artifact(\"classification_report.txt\")\n",
    "\n",
    "print(\"MLflow run completed!\")"
   ]
  },
  {
   "cell_type": "code",
   "execution_count": null,
   "metadata": {},
   "outputs": [],
   "source": []
  }
 ],
 "metadata": {
  "kernelspec": {
   "display_name": "base",
   "language": "python",
   "name": "python3"
  },
  "language_info": {
   "codemirror_mode": {
    "name": "ipython",
    "version": 3
   },
   "file_extension": ".py",
   "mimetype": "text/x-python",
   "name": "python",
   "nbconvert_exporter": "python",
   "pygments_lexer": "ipython3",
   "version": "3.11.2"
  }
 },
 "nbformat": 4,
 "nbformat_minor": 2
}
